{
 "cells": [
  {
   "cell_type": "code",
   "execution_count": 33,
   "id": "unavailable-memory",
   "metadata": {},
   "outputs": [],
   "source": [
    "import cv2\n",
    "import os\n",
    "import numpy as np"
   ]
  },
  {
   "cell_type": "code",
   "execution_count": 20,
   "id": "abroad-poverty",
   "metadata": {},
   "outputs": [],
   "source": [
    "image_name = os.path.join(\n",
    "    os.getcwd(), 'frames/mc_2_server_mp4/frame_158.jpg'\n",
    ")\n",
    "image = cv2.imread(image_name, 0)"
   ]
  },
  {
   "cell_type": "code",
   "execution_count": 7,
   "id": "conscious-danger",
   "metadata": {},
   "outputs": [],
   "source": [
    "def show_image(image):\n",
    "    cv2.imshow('test', image)\n",
    "    cv2.waitKey(0)\n",
    "    cv2.destroyAllWindows()"
   ]
  },
  {
   "cell_type": "markdown",
   "id": "driven-vietnamese",
   "metadata": {},
   "source": [
    "# <img src=\"test/frame_158.jpg\" />"
   ]
  },
  {
   "cell_type": "code",
   "execution_count": 113,
   "id": "indie-planning",
   "metadata": {},
   "outputs": [],
   "source": [
    "### cv2 tutorial"
   ]
  },
  {
   "cell_type": "code",
   "execution_count": 70,
   "id": "careful-pharmacology",
   "metadata": {},
   "outputs": [],
   "source": [
    "# https://docs.opencv.org/master/d4/d73/tutorial_py_contours_begin.html\n",
    "im = cv2.imread('frames/mc_2_server_mp4/frame_158.jpg')"
   ]
  },
  {
   "cell_type": "code",
   "execution_count": 71,
   "id": "nominated-century",
   "metadata": {},
   "outputs": [],
   "source": [
    "imgray = cv2.cvtColor(im, cv2.COLOR_BGR2GRAY)"
   ]
  },
  {
   "cell_type": "code",
   "execution_count": 75,
   "id": "juvenile-france",
   "metadata": {},
   "outputs": [],
   "source": [
    "ret, thresh = cv2.threshold(imgray, 127, 255, 0)"
   ]
  },
  {
   "cell_type": "code",
   "execution_count": 76,
   "id": "expensive-electronics",
   "metadata": {},
   "outputs": [],
   "source": [
    "contours, hierarchy = cv2.findContours(\n",
    "    thresh, cv2.RETR_TREE, cv2.CHAIN_APPROX_SIMPLE\n",
    ")"
   ]
  },
  {
   "cell_type": "code",
   "execution_count": 104,
   "id": "decent-mistake",
   "metadata": {},
   "outputs": [],
   "source": [
    "img = im.copy()\n",
    "areas = []\n",
    "for ct in contours:\n",
    "    area = cv2.contourArea(ct)\n",
    "    if area > 5000:\n",
    "        cv2.drawContours(img, [ct], -1, (0, 255, 0), 3)\n",
    "        areas.append(area)"
   ]
  },
  {
   "cell_type": "code",
   "execution_count": 105,
   "id": "incoming-contract",
   "metadata": {},
   "outputs": [],
   "source": [
    "show_image(img)"
   ]
  },
  {
   "cell_type": "code",
   "execution_count": 109,
   "id": "surprised-steering",
   "metadata": {},
   "outputs": [
    {
     "data": {
      "text/plain": [
       "True"
      ]
     },
     "execution_count": 109,
     "metadata": {},
     "output_type": "execute_result"
    }
   ],
   "source": [
    "cv2.imwrite('test/_contour.jpg', img)"
   ]
  },
  {
   "cell_type": "markdown",
   "id": "entire-portuguese",
   "metadata": {},
   "source": [
    "# <img src=\"test/_contour.jpg\" />"
   ]
  },
  {
   "cell_type": "code",
   "execution_count": 112,
   "id": "economic-suicide",
   "metadata": {},
   "outputs": [],
   "source": [
    "### maybe cv2 function"
   ]
  },
  {
   "cell_type": "code",
   "execution_count": 116,
   "id": "modern-record",
   "metadata": {},
   "outputs": [],
   "source": [
    "import numpy as np"
   ]
  },
  {
   "cell_type": "code",
   "execution_count": 240,
   "id": "fluid-sitting",
   "metadata": {},
   "outputs": [],
   "source": [
    "# https://gist.github.com/bigsnarfdude/d811e31ee17495f82f10db12651ae82d\n",
    "img = im.copy()\n",
    "\n",
    "for c in contours:\n",
    "    x, y, w, h = cv2.boundingRect(c)\n",
    "    if w > 50 and h > 50:\n",
    "        #xy = abs((x+w) - (y+h))\n",
    "        #if xy > 300 and xy < 1000:\n",
    "        #    continue\n",
    "        fe = abs((x+y) - (w+h))\n",
    "        if fe > 500:\n",
    "            continue\n",
    "        if (fe < 100):\n",
    "            continue\n",
    "        if abs(w - h) > 100:\n",
    "            continue\n",
    "        #print('FE:', fe)\n",
    "        #print('X:', x)\n",
    "        #print('Y:', y)\n",
    "        #print('W:', w)\n",
    "        #print('H:', h)\n",
    "        #print()\n",
    "        #print('XY', x+y, 'WH:', w+h)\n",
    "        cv2.rectangle(\n",
    "            img, (x, y), (x+w, y+h), (0, 255, 0), 2\n",
    "        )"
   ]
  },
  {
   "cell_type": "code",
   "execution_count": 242,
   "id": "facial-jamaica",
   "metadata": {},
   "outputs": [],
   "source": [
    "show_image(img)"
   ]
  },
  {
   "cell_type": "code",
   "execution_count": 153,
   "id": "rational-supplier",
   "metadata": {},
   "outputs": [
    {
     "name": "stdout",
     "output_type": "stream",
     "text": [
      "273 53 731 533\n",
      "300 457 677 62\n",
      "360 460 56 57\n",
      "364 375 78 69\n",
      "364 257 81 79\n",
      "364 148 81 81\n",
      "478 21 321 51\n"
     ]
    }
   ],
   "source": [
    "img = im.copy()\n",
    "\n",
    "for c in contours:\n",
    "    x,y,w,h = cv2.boundingRect(c)\n",
    "    if w > 50 and h > 50:\n",
    "        cv2.drawContours(img, [c], -1, (0, 255, 0), 3)\n",
    "        print(x, y, w, h)"
   ]
  },
  {
   "cell_type": "code",
   "execution_count": 152,
   "id": "subject-prayer",
   "metadata": {},
   "outputs": [],
   "source": [
    "show_image(img)"
   ]
  },
  {
   "cell_type": "code",
   "execution_count": 17,
   "id": "micro-advantage",
   "metadata": {},
   "outputs": [],
   "source": [
    "def draw_avatar_contour(image):\n",
    "    # https://gist.github.com/bigsnarfdude/d811e31ee17495f82f10db12651ae82d\n",
    "    # https://docs.opencv.org/master/d4/d73/tutorial_py_contours_begin.html\n",
    "    im = cv2.imread(image)\n",
    "    img = im.copy()\n",
    "    imgray = cv2.cvtColor(im, cv2.COLOR_BGR2GRAY)\n",
    "    ret, thresh = cv2.threshold(imgray, 127, 255, 0)\n",
    "    contours, hierarchy = cv2.findContours(\n",
    "        thresh, cv2.RETR_TREE, cv2.CHAIN_APPROX_SIMPLE\n",
    "    )\n",
    "\n",
    "    for c in contours:\n",
    "        x, y, w, h = cv2.boundingRect(c)\n",
    "        if w > 40 and h > 40:\n",
    "            #xy = abs((x+w) - (y+h))\n",
    "            #if xy > 300 and xy < 1000:\n",
    "            #    continue\n",
    "            fe = abs((x+y) - (w+h))\n",
    "            #if fe > 500:\n",
    "            #    continuae\n",
    "            #if (fe < 100):\n",
    "            #    continue\n",
    "            #if abs(w - h) > 100:\n",
    "            #    continue\n",
    "            cv2.rectangle(\n",
    "                img, (x, y), (x+w, y+h), (0, 255, 0), 2\n",
    "            )\n",
    "    show_image(img)"
   ]
  },
  {
   "cell_type": "code",
   "execution_count": 3,
   "id": "cleared-privilege",
   "metadata": {},
   "outputs": [],
   "source": [
    "nejin = 'test/avatar_b4d_n3j1n.jpg'"
   ]
  },
  {
   "cell_type": "markdown",
   "id": "reserved-revision",
   "metadata": {},
   "source": [
    "# <img src='test/avatar_b4d_n3j1n.jpg' />"
   ]
  },
  {
   "cell_type": "code",
   "execution_count": 18,
   "id": "revised-advocate",
   "metadata": {},
   "outputs": [],
   "source": [
    "draw_avatar_contour(nejin)"
   ]
  },
  {
   "cell_type": "code",
   "execution_count": 20,
   "id": "virgin-pension",
   "metadata": {},
   "outputs": [],
   "source": [
    "## https://programmer.help/blogs/rubik-cube-recognition-using-opencv-edge-and-position-recognition.html"
   ]
  },
  {
   "cell_type": "code",
   "execution_count": 21,
   "id": "adapted-conducting",
   "metadata": {},
   "outputs": [],
   "source": [
    "image = cv2.imread(nejin)"
   ]
  },
  {
   "cell_type": "code",
   "execution_count": 22,
   "id": "supreme-young",
   "metadata": {},
   "outputs": [],
   "source": [
    "gray = cv2.cvtColor(image, cv2.COLOR_BGR2GRAY)"
   ]
  },
  {
   "cell_type": "code",
   "execution_count": 29,
   "id": "informal-column",
   "metadata": {},
   "outputs": [],
   "source": [
    "cv2.imshow('?', gray)\n",
    "cv2.waitKey(0)\n",
    "cv2.destroyAllWindows()"
   ]
  },
  {
   "cell_type": "code",
   "execution_count": 30,
   "id": "cubic-symposium",
   "metadata": {},
   "outputs": [],
   "source": [
    "blurred = cv2.GaussianBlur(gray, (3, 3), 0)\n",
    "show_image(blurred)"
   ]
  },
  {
   "cell_type": "code",
   "execution_count": 31,
   "id": "welsh-stations",
   "metadata": {},
   "outputs": [],
   "source": [
    "canny = cv2.Canny(blurred, 20, 40)\n",
    "show_image(canny)"
   ]
  },
  {
   "cell_type": "code",
   "execution_count": 34,
   "id": "formed-conference",
   "metadata": {},
   "outputs": [],
   "source": [
    "kernel = np.ones((3,3), np.uint8)\n",
    "dilated = cv2.dilate(canny, kernel, iterations=2)\n",
    "show_image(dilated)"
   ]
  },
  {
   "cell_type": "code",
   "execution_count": 38,
   "id": "loaded-membership",
   "metadata": {},
   "outputs": [],
   "source": [
    "ik = image.copy()\n",
    "\n",
    "# im = cv2.imread(image)\n",
    "img = dilated.copy()\n",
    "#imgray = cv2.cvtColor(im, cv2.COLOR_BGR2GRAY)\n",
    "#ret, thresh = cv2.threshold(imgray, 127, 255, 0)\n",
    "contours, hierarchy = cv2.findContours(\n",
    "    img, cv2.RETR_TREE, cv2.CHAIN_APPROX_SIMPLE\n",
    ")\n",
    "\n",
    "for c in contours:\n",
    "    x, y, w, h = cv2.boundingRect(c)\n",
    "    if w > 50 and h > 50:\n",
    "        xy = abs((x+w) - (y+h))\n",
    "        if xy > 300 and xy < 1000:\n",
    "            continue\n",
    "        fe = abs((x+y) - (w+h))\n",
    "        if fe > 500:\n",
    "            continue\n",
    "        if (fe < 100):\n",
    "            continue\n",
    "        if abs(w - h) > 100:\n",
    "            continue\n",
    "        cv2.rectangle(\n",
    "            ik, (x, y), (x+w, y+h), (0, 255, 0), 2\n",
    "        )\n",
    "show_image(ik)"
   ]
  },
  {
   "cell_type": "code",
   "execution_count": null,
   "id": "multiple-concord",
   "metadata": {},
   "outputs": [],
   "source": []
  }
 ],
 "metadata": {
  "kernelspec": {
   "display_name": "Python 3",
   "language": "python",
   "name": "python3"
  },
  "language_info": {
   "codemirror_mode": {
    "name": "ipython",
    "version": 3
   },
   "file_extension": ".py",
   "mimetype": "text/x-python",
   "name": "python",
   "nbconvert_exporter": "python",
   "pygments_lexer": "ipython3",
   "version": "3.9.1"
  }
 },
 "nbformat": 4,
 "nbformat_minor": 5
}
