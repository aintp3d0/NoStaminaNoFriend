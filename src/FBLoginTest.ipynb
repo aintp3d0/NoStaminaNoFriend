{
 "cells": [
  {
   "cell_type": "code",
   "execution_count": 1,
   "id": "fifty-minority",
   "metadata": {},
   "outputs": [],
   "source": [
    "import os\n",
    "from selenium import webdriver\n",
    "from selenium.webdriver.common.keys import Keys"
   ]
  },
  {
   "cell_type": "code",
   "execution_count": 54,
   "id": "crazy-yahoo",
   "metadata": {},
   "outputs": [],
   "source": [
    "e_email = os.environ.get('e_email')\n",
    "e_pwd = os.environ.get('e_pwd')"
   ]
  },
  {
   "cell_type": "code",
   "execution_count": 7,
   "id": "mounted-queens",
   "metadata": {},
   "outputs": [],
   "source": [
    "import sys\n",
    "sys.path.append(os.path.join(os.getcwd(), 'bin'))"
   ]
  },
  {
   "cell_type": "code",
   "execution_count": 3,
   "id": "contained-wilderness",
   "metadata": {},
   "outputs": [],
   "source": [
    "driver = webdriver.Firefox()"
   ]
  },
  {
   "cell_type": "code",
   "execution_count": 4,
   "id": "fifth-native",
   "metadata": {},
   "outputs": [],
   "source": [
    "driver.get('https://www.facebook.com/login')"
   ]
  },
  {
   "cell_type": "code",
   "execution_count": 11,
   "id": "wired-creation",
   "metadata": {},
   "outputs": [],
   "source": [
    "email = driver.find_element_by_name('email')"
   ]
  },
  {
   "cell_type": "code",
   "execution_count": 12,
   "id": "rapid-attraction",
   "metadata": {},
   "outputs": [],
   "source": [
    "email.send_keys(e_email)"
   ]
  },
  {
   "cell_type": "code",
   "execution_count": 13,
   "id": "median-advocate",
   "metadata": {},
   "outputs": [],
   "source": [
    "pwd = driver.find_element_by_name('pass')"
   ]
  },
  {
   "cell_type": "code",
   "execution_count": 14,
   "id": "imported-civilization",
   "metadata": {},
   "outputs": [],
   "source": [
    "pwd.send_keys(e_pwd)"
   ]
  },
  {
   "cell_type": "code",
   "execution_count": 15,
   "id": "falling-kazakhstan",
   "metadata": {},
   "outputs": [],
   "source": [
    "login = driver.find_element_by_name('login')"
   ]
  },
  {
   "cell_type": "code",
   "execution_count": 16,
   "id": "built-upgrade",
   "metadata": {},
   "outputs": [],
   "source": [
    "login.click()"
   ]
  },
  {
   "cell_type": "code",
   "execution_count": 17,
   "id": "ancient-monroe",
   "metadata": {},
   "outputs": [],
   "source": [
    "left_side = driver.find_element_by_class_name('buofh1pr')"
   ]
  },
  {
   "cell_type": "code",
   "execution_count": 21,
   "id": "seventh-reading",
   "metadata": {},
   "outputs": [],
   "source": [
    "links = left_side.find_elements_by_tag_name('a')"
   ]
  },
  {
   "cell_type": "code",
   "execution_count": 23,
   "id": "continued-blues",
   "metadata": {},
   "outputs": [],
   "source": [
    "link = links[0]"
   ]
  },
  {
   "cell_type": "code",
   "execution_count": 24,
   "id": "interim-macedonia",
   "metadata": {},
   "outputs": [
    {
     "data": {
      "text/plain": [
       "['__class__',\n",
       " '__delattr__',\n",
       " '__dict__',\n",
       " '__dir__',\n",
       " '__doc__',\n",
       " '__eq__',\n",
       " '__format__',\n",
       " '__ge__',\n",
       " '__getattribute__',\n",
       " '__gt__',\n",
       " '__hash__',\n",
       " '__init__',\n",
       " '__init_subclass__',\n",
       " '__le__',\n",
       " '__lt__',\n",
       " '__module__',\n",
       " '__ne__',\n",
       " '__new__',\n",
       " '__reduce__',\n",
       " '__reduce_ex__',\n",
       " '__repr__',\n",
       " '__setattr__',\n",
       " '__sizeof__',\n",
       " '__str__',\n",
       " '__subclasshook__',\n",
       " '__weakref__',\n",
       " '_execute',\n",
       " '_id',\n",
       " '_parent',\n",
       " '_upload',\n",
       " '_w3c',\n",
       " 'anonymous_children',\n",
       " 'clear',\n",
       " 'click',\n",
       " 'find_anonymous_element_by_attribute',\n",
       " 'find_element',\n",
       " 'find_element_by_class_name',\n",
       " 'find_element_by_css_selector',\n",
       " 'find_element_by_id',\n",
       " 'find_element_by_link_text',\n",
       " 'find_element_by_name',\n",
       " 'find_element_by_partial_link_text',\n",
       " 'find_element_by_tag_name',\n",
       " 'find_element_by_xpath',\n",
       " 'find_elements',\n",
       " 'find_elements_by_class_name',\n",
       " 'find_elements_by_css_selector',\n",
       " 'find_elements_by_id',\n",
       " 'find_elements_by_link_text',\n",
       " 'find_elements_by_name',\n",
       " 'find_elements_by_partial_link_text',\n",
       " 'find_elements_by_tag_name',\n",
       " 'find_elements_by_xpath',\n",
       " 'get_attribute',\n",
       " 'get_property',\n",
       " 'id',\n",
       " 'is_displayed',\n",
       " 'is_enabled',\n",
       " 'is_selected',\n",
       " 'location',\n",
       " 'location_once_scrolled_into_view',\n",
       " 'parent',\n",
       " 'rect',\n",
       " 'screenshot',\n",
       " 'screenshot_as_base64',\n",
       " 'screenshot_as_png',\n",
       " 'send_keys',\n",
       " 'size',\n",
       " 'submit',\n",
       " 'tag_name',\n",
       " 'text',\n",
       " 'value_of_css_property']"
      ]
     },
     "execution_count": 24,
     "metadata": {},
     "output_type": "execute_result"
    }
   ],
   "source": [
    "dir(link)"
   ]
  },
  {
   "cell_type": "code",
   "execution_count": 26,
   "id": "desirable-coral",
   "metadata": {},
   "outputs": [
    {
     "data": {
      "text/plain": [
       "'https://www.facebook.com/'"
      ]
     },
     "execution_count": 26,
     "metadata": {},
     "output_type": "execute_result"
    }
   ],
   "source": [
    "link.get_attribute('href')"
   ]
  },
  {
   "cell_type": "code",
   "execution_count": 27,
   "id": "native-lighting",
   "metadata": {},
   "outputs": [
    {
     "data": {
      "text/plain": [
       "1"
      ]
     },
     "execution_count": 27,
     "metadata": {},
     "output_type": "execute_result"
    }
   ],
   "source": [
    "len(links)"
   ]
  },
  {
   "cell_type": "code",
   "execution_count": 39,
   "id": "employed-reading",
   "metadata": {},
   "outputs": [],
   "source": [
    "imgs = driver.find_elements_by_tag_name('img')"
   ]
  },
  {
   "cell_type": "code",
   "execution_count": 40,
   "id": "pacific-sense",
   "metadata": {},
   "outputs": [
    {
     "data": {
      "text/plain": [
       "42"
      ]
     },
     "execution_count": 40,
     "metadata": {},
     "output_type": "execute_result"
    }
   ],
   "source": [
    "len(imgs)"
   ]
  },
  {
   "cell_type": "code",
   "execution_count": 46,
   "id": "better-advancement",
   "metadata": {},
   "outputs": [
    {
     "data": {
      "text/plain": [
       "<selenium.webdriver.firefox.webelement.FirefoxWebElement (session=\"f19be68a-09a9-486c-87a7-8730e5061d8e\", element=\"5b08467e-b60d-4afb-8a7e-51357c231b3e\")>"
      ]
     },
     "execution_count": 46,
     "metadata": {},
     "output_type": "execute_result"
    }
   ],
   "source": [
    "imgs[15]"
   ]
  },
  {
   "cell_type": "code",
   "execution_count": 47,
   "id": "mineral-depth",
   "metadata": {},
   "outputs": [
    {
     "data": {
      "text/plain": [
       "'https://scontent-arn2-1.xx.fbcdn.net/v/t1.0-1/cp0/p80x80/131899151_733252780629656_5216548796421304967_n.jpg?_nc_cat=106&ccb=2&_nc_sid=2fc63d&_nc_ohc=cJ-n2D6GHDoAX-HabvL&_nc_ht=scontent-arn2-1.xx&tp=27&oh=92c4ad6887c50677f4551f4063be2936&oe=602B16D2'"
      ]
     },
     "execution_count": 47,
     "metadata": {},
     "output_type": "execute_result"
    }
   ],
   "source": [
    "_.get_attribute('src')"
   ]
  },
  {
   "cell_type": "code",
   "execution_count": 51,
   "id": "gross-turning",
   "metadata": {},
   "outputs": [],
   "source": [
    "driver.execute_script(\"window.scrollTo(0, 900)\")"
   ]
  }
 ],
 "metadata": {
  "kernelspec": {
   "display_name": "Python 3",
   "language": "python",
   "name": "python3"
  },
  "language_info": {
   "codemirror_mode": {
    "name": "ipython",
    "version": 3
   },
   "file_extension": ".py",
   "mimetype": "text/x-python",
   "name": "python",
   "nbconvert_exporter": "python",
   "pygments_lexer": "ipython3",
   "version": "3.9.1"
  }
 },
 "nbformat": 4,
 "nbformat_minor": 5
}
