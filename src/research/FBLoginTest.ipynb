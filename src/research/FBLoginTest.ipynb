{
 "cells": [
  {
   "cell_type": "code",
   "execution_count": 1,
   "id": "fifty-minority",
   "metadata": {},
   "outputs": [],
   "source": [
    "import os\n",
    "from selenium import webdriver\n",
    "from selenium.webdriver.common.keys import Keys"
   ]
  },
  {
   "cell_type": "code",
   "execution_count": 183,
   "id": "crazy-yahoo",
   "metadata": {},
   "outputs": [],
   "source": [
    "e_email = 'secret'\n",
    "e_pwd = 'secret'"
   ]
  },
  {
   "cell_type": "code",
   "execution_count": 3,
   "id": "contained-wilderness",
   "metadata": {},
   "outputs": [],
   "source": [
    "driver = webdriver.Firefox()"
   ]
  },
  {
   "cell_type": "code",
   "execution_count": 4,
   "id": "fifth-native",
   "metadata": {},
   "outputs": [],
   "source": [
    "driver.get('https://www.facebook.com/login')"
   ]
  },
  {
   "cell_type": "code",
   "execution_count": 5,
   "id": "wired-creation",
   "metadata": {},
   "outputs": [],
   "source": [
    "email = driver.find_element_by_name('email')"
   ]
  },
  {
   "cell_type": "code",
   "execution_count": 6,
   "id": "rapid-attraction",
   "metadata": {},
   "outputs": [],
   "source": [
    "email.send_keys(e_email)"
   ]
  },
  {
   "cell_type": "code",
   "execution_count": 7,
   "id": "median-advocate",
   "metadata": {},
   "outputs": [],
   "source": [
    "pwd = driver.find_element_by_name('pass')"
   ]
  },
  {
   "cell_type": "code",
   "execution_count": 8,
   "id": "imported-civilization",
   "metadata": {},
   "outputs": [],
   "source": [
    "pwd.send_keys(e_pwd)"
   ]
  },
  {
   "cell_type": "code",
   "execution_count": 9,
   "id": "falling-kazakhstan",
   "metadata": {},
   "outputs": [],
   "source": [
    "login = driver.find_element_by_name('login')"
   ]
  },
  {
   "cell_type": "code",
   "execution_count": 10,
   "id": "built-upgrade",
   "metadata": {},
   "outputs": [],
   "source": [
    "login.click()"
   ]
  },
  {
   "cell_type": "code",
   "execution_count": 17,
   "id": "palestinian-impossible",
   "metadata": {},
   "outputs": [],
   "source": [
    "###"
   ]
  },
  {
   "cell_type": "code",
   "execution_count": 21,
   "id": "lightweight-clearance",
   "metadata": {},
   "outputs": [],
   "source": [
    "driver.get('https://www.facebook.com/me')"
   ]
  },
  {
   "cell_type": "code",
   "execution_count": 22,
   "id": "amazing-atlantic",
   "metadata": {},
   "outputs": [],
   "source": [
    "driver.get(f\"{driver.current_url}friends\")"
   ]
  },
  {
   "cell_type": "code",
   "execution_count": null,
   "id": "hawaiian-convenience",
   "metadata": {},
   "outputs": [],
   "source": []
  },
  {
   "cell_type": "code",
   "execution_count": null,
   "id": "useful-purple",
   "metadata": {},
   "outputs": [],
   "source": []
  },
  {
   "cell_type": "code",
   "execution_count": null,
   "id": "surrounded-north",
   "metadata": {},
   "outputs": [],
   "source": []
  },
  {
   "cell_type": "code",
   "execution_count": 23,
   "id": "employed-reading",
   "metadata": {},
   "outputs": [],
   "source": [
    "imgs = driver.find_elements_by_tag_name('img')"
   ]
  },
  {
   "cell_type": "code",
   "execution_count": 26,
   "id": "hundred-resistance",
   "metadata": {},
   "outputs": [],
   "source": [
    "target_image = imgs[15]"
   ]
  },
  {
   "cell_type": "code",
   "execution_count": 54,
   "id": "accompanied-niagara",
   "metadata": {},
   "outputs": [],
   "source": [
    "from selenium.webdriver.common.by import By"
   ]
  },
  {
   "cell_type": "code",
   "execution_count": null,
   "id": "personal-greene",
   "metadata": {},
   "outputs": [],
   "source": []
  },
  {
   "cell_type": "code",
   "execution_count": 27,
   "id": "engaging-politics",
   "metadata": {},
   "outputs": [
    {
     "data": {
      "text/plain": [
       "['__class__',\n",
       " '__delattr__',\n",
       " '__dict__',\n",
       " '__dir__',\n",
       " '__doc__',\n",
       " '__eq__',\n",
       " '__format__',\n",
       " '__ge__',\n",
       " '__getattribute__',\n",
       " '__gt__',\n",
       " '__hash__',\n",
       " '__init__',\n",
       " '__init_subclass__',\n",
       " '__le__',\n",
       " '__lt__',\n",
       " '__module__',\n",
       " '__ne__',\n",
       " '__new__',\n",
       " '__reduce__',\n",
       " '__reduce_ex__',\n",
       " '__repr__',\n",
       " '__setattr__',\n",
       " '__sizeof__',\n",
       " '__str__',\n",
       " '__subclasshook__',\n",
       " '__weakref__',\n",
       " '_execute',\n",
       " '_id',\n",
       " '_parent',\n",
       " '_upload',\n",
       " '_w3c',\n",
       " 'anonymous_children',\n",
       " 'clear',\n",
       " 'click',\n",
       " 'find_anonymous_element_by_attribute',\n",
       " 'find_element',\n",
       " 'find_element_by_class_name',\n",
       " 'find_element_by_css_selector',\n",
       " 'find_element_by_id',\n",
       " 'find_element_by_link_text',\n",
       " 'find_element_by_name',\n",
       " 'find_element_by_partial_link_text',\n",
       " 'find_element_by_tag_name',\n",
       " 'find_element_by_xpath',\n",
       " 'find_elements',\n",
       " 'find_elements_by_class_name',\n",
       " 'find_elements_by_css_selector',\n",
       " 'find_elements_by_id',\n",
       " 'find_elements_by_link_text',\n",
       " 'find_elements_by_name',\n",
       " 'find_elements_by_partial_link_text',\n",
       " 'find_elements_by_tag_name',\n",
       " 'find_elements_by_xpath',\n",
       " 'get_attribute',\n",
       " 'get_property',\n",
       " 'id',\n",
       " 'is_displayed',\n",
       " 'is_enabled',\n",
       " 'is_selected',\n",
       " 'location',\n",
       " 'location_once_scrolled_into_view',\n",
       " 'parent',\n",
       " 'rect',\n",
       " 'screenshot',\n",
       " 'screenshot_as_base64',\n",
       " 'screenshot_as_png',\n",
       " 'send_keys',\n",
       " 'size',\n",
       " 'submit',\n",
       " 'tag_name',\n",
       " 'text',\n",
       " 'value_of_css_property']"
      ]
     },
     "execution_count": 27,
     "metadata": {},
     "output_type": "execute_result"
    }
   ],
   "source": [
    "dir(target_image)s"
   ]
  },
  {
   "cell_type": "code",
   "execution_count": 83,
   "id": "present-sydney",
   "metadata": {},
   "outputs": [
    {
     "data": {
      "text/plain": [
       "<selenium.webdriver.firefox.webelement.FirefoxWebElement (session=\"a116df79-fa1e-4d3d-ac65-07ed0980995d\", element=\"73145fb9-8f75-487d-9aca-34e8a93e43a1\")>"
      ]
     },
     "execution_count": 83,
     "metadata": {},
     "output_type": "execute_result"
    }
   ],
   "source": [
    "target_image.find_element_by_xpath('..')"
   ]
  },
  {
   "cell_type": "code",
   "execution_count": 84,
   "id": "military-church",
   "metadata": {},
   "outputs": [],
   "source": [
    "pv = _"
   ]
  },
  {
   "cell_type": "code",
   "execution_count": 87,
   "id": "affiliated-nowhere",
   "metadata": {},
   "outputs": [
    {
     "data": {
      "text/plain": [
       "[<selenium.webdriver.firefox.webelement.FirefoxWebElement (session=\"a116df79-fa1e-4d3d-ac65-07ed0980995d\", element=\"18393659-1b16-4066-82c8-f62beecdc59e\")>]"
      ]
     },
     "execution_count": 87,
     "metadata": {},
     "output_type": "execute_result"
    }
   ],
   "source": [
    "pv.find_elements_by_tag_name('img')"
   ]
  },
  {
   "cell_type": "code",
   "execution_count": 88,
   "id": "configured-tribe",
   "metadata": {},
   "outputs": [],
   "source": [
    "fff = _[0]"
   ]
  },
  {
   "cell_type": "code",
   "execution_count": 89,
   "id": "amateur-gilbert",
   "metadata": {},
   "outputs": [
    {
     "data": {
      "text/plain": [
       "'https://scontent-arn2-1.xx.fbcdn.net/v/t1.0-1/cp0/p80x80/131899151_733252780629656_5216548796421304967_n.jpg?_nc_cat=106&ccb=2&_nc_sid=2fc63d&_nc_ohc=cJ-n2D6GHDoAX-HabvL&_nc_ht=scontent-arn2-1.xx&tp=27&oh=affcb4f78ca401f52deaaf3c34981dca&oe=602F0B52'"
      ]
     },
     "execution_count": 89,
     "metadata": {},
     "output_type": "execute_result"
    }
   ],
   "source": [
    "target_image.get_attribute('src')"
   ]
  },
  {
   "cell_type": "code",
   "execution_count": 90,
   "id": "reduced-brooks",
   "metadata": {},
   "outputs": [
    {
     "data": {
      "text/plain": [
       "'https://scontent-arn2-1.xx.fbcdn.net/v/t1.0-1/cp0/p80x80/131899151_733252780629656_5216548796421304967_n.jpg?_nc_cat=106&ccb=2&_nc_sid=2fc63d&_nc_ohc=cJ-n2D6GHDoAX-HabvL&_nc_ht=scontent-arn2-1.xx&tp=27&oh=affcb4f78ca401f52deaaf3c34981dca&oe=602F0B52'"
      ]
     },
     "execution_count": 90,
     "metadata": {},
     "output_type": "execute_result"
    }
   ],
   "source": [
    "fff.get_attribute('src')"
   ]
  },
  {
   "cell_type": "code",
   "execution_count": 114,
   "id": "instrumental-groove",
   "metadata": {},
   "outputs": [],
   "source": [
    "test = target_image.find_element_by_xpath('..').find_element_by_xpath('..')"
   ]
  },
  {
   "cell_type": "code",
   "execution_count": 115,
   "id": "operating-system",
   "metadata": {},
   "outputs": [
    {
     "data": {
      "text/plain": [
       "<selenium.webdriver.firefox.webelement.FirefoxWebElement (session=\"a116df79-fa1e-4d3d-ac65-07ed0980995d\", element=\"8e75b172-19f0-4531-b01a-c9375208ff6e\")>"
      ]
     },
     "execution_count": 115,
     "metadata": {},
     "output_type": "execute_result"
    }
   ],
   "source": [
    "test"
   ]
  },
  {
   "cell_type": "code",
   "execution_count": 116,
   "id": "contrary-vienna",
   "metadata": {},
   "outputs": [],
   "source": [
    "divs = test.find_elements_by_tag_name('div')"
   ]
  },
  {
   "cell_type": "code",
   "execution_count": 117,
   "id": "palestinian-injury",
   "metadata": {},
   "outputs": [
    {
     "data": {
      "text/plain": [
       "[<selenium.webdriver.firefox.webelement.FirefoxWebElement (session=\"a116df79-fa1e-4d3d-ac65-07ed0980995d\", element=\"0247214c-bbdf-41cd-acd3-7325a965a423\")>]"
      ]
     },
     "execution_count": 117,
     "metadata": {},
     "output_type": "execute_result"
    }
   ],
   "source": [
    "divs"
   ]
  },
  {
   "cell_type": "code",
   "execution_count": null,
   "id": "million-showcase",
   "metadata": {},
   "outputs": [],
   "source": []
  },
  {
   "cell_type": "code",
   "execution_count": 111,
   "id": "governmental-physics",
   "metadata": {},
   "outputs": [
    {
     "data": {
      "text/plain": [
       "1"
      ]
     },
     "execution_count": 111,
     "metadata": {},
     "output_type": "execute_result"
    }
   ],
   "source": [
    "len(divs)"
   ]
  },
  {
   "cell_type": "code",
   "execution_count": 124,
   "id": "married-legend",
   "metadata": {},
   "outputs": [
    {
     "data": {
      "text/plain": [
       "<selenium.webdriver.firefox.webelement.FirefoxWebElement (session=\"a116df79-fa1e-4d3d-ac65-07ed0980995d\", element=\"18393659-1b16-4066-82c8-f62beecdc59e\")>"
      ]
     },
     "execution_count": 124,
     "metadata": {},
     "output_type": "execute_result"
    }
   ],
   "source": [
    "target_image"
   ]
  },
  {
   "cell_type": "code",
   "execution_count": 126,
   "id": "focal-movie",
   "metadata": {},
   "outputs": [],
   "source": [
    "# target_image.find_element_by_tag_name('a')"
   ]
  },
  {
   "cell_type": "code",
   "execution_count": null,
   "id": "respected-aluminum",
   "metadata": {},
   "outputs": [],
   "source": []
  },
  {
   "cell_type": "code",
   "execution_count": 128,
   "id": "electrical-stanford",
   "metadata": {},
   "outputs": [],
   "source": [
    "# target_image.find_element_by_xpath('..').find_element_by_tag_name('a')"
   ]
  },
  {
   "cell_type": "code",
   "execution_count": 130,
   "id": "fixed-platinum",
   "metadata": {},
   "outputs": [
    {
     "data": {
      "text/plain": [
       "<selenium.webdriver.firefox.webelement.FirefoxWebElement (session=\"a116df79-fa1e-4d3d-ac65-07ed0980995d\", element=\"73145fb9-8f75-487d-9aca-34e8a93e43a1\")>"
      ]
     },
     "execution_count": 130,
     "metadata": {},
     "output_type": "execute_result"
    }
   ],
   "source": [
    "target_image.find_element_by_xpath('..').find_element_by_xpath('..').find_element_by_tag_name('a')"
   ]
  },
  {
   "cell_type": "code",
   "execution_count": 137,
   "id": "closing-little",
   "metadata": {},
   "outputs": [],
   "source": [
    "kk = target_image.find_element_by_xpath('..').find_element_by_xpath('..')"
   ]
  },
  {
   "cell_type": "code",
   "execution_count": 141,
   "id": "stuffed-forum",
   "metadata": {},
   "outputs": [
    {
     "data": {
      "text/plain": [
       "[<selenium.webdriver.firefox.webelement.FirefoxWebElement (session=\"a116df79-fa1e-4d3d-ac65-07ed0980995d\", element=\"0247214c-bbdf-41cd-acd3-7325a965a423\")>]"
      ]
     },
     "execution_count": 141,
     "metadata": {},
     "output_type": "execute_result"
    }
   ],
   "source": [
    "kk.find_elements_by_tag_name('div')"
   ]
  },
  {
   "cell_type": "code",
   "execution_count": 143,
   "id": "mexican-special",
   "metadata": {},
   "outputs": [],
   "source": [
    "p_target_image = target_image.find_element_by_xpath('..')"
   ]
  },
  {
   "cell_type": "code",
   "execution_count": 144,
   "id": "packed-abraham",
   "metadata": {},
   "outputs": [
    {
     "data": {
      "text/plain": [
       "<selenium.webdriver.firefox.webelement.FirefoxWebElement (session=\"a116df79-fa1e-4d3d-ac65-07ed0980995d\", element=\"73145fb9-8f75-487d-9aca-34e8a93e43a1\")>"
      ]
     },
     "execution_count": 144,
     "metadata": {},
     "output_type": "execute_result"
    }
   ],
   "source": [
    "p_target_image"
   ]
  },
  {
   "cell_type": "code",
   "execution_count": 145,
   "id": "alleged-smart",
   "metadata": {},
   "outputs": [
    {
     "data": {
      "text/plain": [
       "[<selenium.webdriver.firefox.webelement.FirefoxWebElement (session=\"a116df79-fa1e-4d3d-ac65-07ed0980995d\", element=\"0247214c-bbdf-41cd-acd3-7325a965a423\")>]"
      ]
     },
     "execution_count": 145,
     "metadata": {},
     "output_type": "execute_result"
    }
   ],
   "source": [
    "p_target_image.find_elements_by_tag_name('div')"
   ]
  },
  {
   "cell_type": "code",
   "execution_count": 146,
   "id": "instrumental-demand",
   "metadata": {},
   "outputs": [],
   "source": [
    "pp_target_image = p_target_image.find_element_by_xpath('..')"
   ]
  },
  {
   "cell_type": "code",
   "execution_count": 147,
   "id": "viral-allah",
   "metadata": {},
   "outputs": [
    {
     "data": {
      "text/plain": [
       "[<selenium.webdriver.firefox.webelement.FirefoxWebElement (session=\"a116df79-fa1e-4d3d-ac65-07ed0980995d\", element=\"0247214c-bbdf-41cd-acd3-7325a965a423\")>]"
      ]
     },
     "execution_count": 147,
     "metadata": {},
     "output_type": "execute_result"
    }
   ],
   "source": [
    "pp_target_image.find_elements_by_tag_name('div')"
   ]
  },
  {
   "cell_type": "code",
   "execution_count": 148,
   "id": "paperback-content",
   "metadata": {},
   "outputs": [],
   "source": [
    "ppp_target_image = pp_target_image.find_element_by_xpath('..')"
   ]
  },
  {
   "cell_type": "code",
   "execution_count": 149,
   "id": "expressed-powder",
   "metadata": {},
   "outputs": [
    {
     "data": {
      "text/plain": [
       "[<selenium.webdriver.firefox.webelement.FirefoxWebElement (session=\"a116df79-fa1e-4d3d-ac65-07ed0980995d\", element=\"8e75b172-19f0-4531-b01a-c9375208ff6e\")>,\n",
       " <selenium.webdriver.firefox.webelement.FirefoxWebElement (session=\"a116df79-fa1e-4d3d-ac65-07ed0980995d\", element=\"0247214c-bbdf-41cd-acd3-7325a965a423\")>,\n",
       " <selenium.webdriver.firefox.webelement.FirefoxWebElement (session=\"a116df79-fa1e-4d3d-ac65-07ed0980995d\", element=\"1a1557d2-d587-4ac3-b42f-a37c953ef609\")>,\n",
       " <selenium.webdriver.firefox.webelement.FirefoxWebElement (session=\"a116df79-fa1e-4d3d-ac65-07ed0980995d\", element=\"85f92d32-1c75-42e8-90e0-40bdf9bf3c0c\")>,\n",
       " <selenium.webdriver.firefox.webelement.FirefoxWebElement (session=\"a116df79-fa1e-4d3d-ac65-07ed0980995d\", element=\"6b757a0e-b271-419a-9f3f-0fe6863aeaed\")>,\n",
       " <selenium.webdriver.firefox.webelement.FirefoxWebElement (session=\"a116df79-fa1e-4d3d-ac65-07ed0980995d\", element=\"5e3cf2ad-5db8-4aa8-8667-cad5166e90c8\")>,\n",
       " <selenium.webdriver.firefox.webelement.FirefoxWebElement (session=\"a116df79-fa1e-4d3d-ac65-07ed0980995d\", element=\"620efedd-d78f-43ca-a5aa-a0bb3603fd73\")>,\n",
       " <selenium.webdriver.firefox.webelement.FirefoxWebElement (session=\"a116df79-fa1e-4d3d-ac65-07ed0980995d\", element=\"088685ce-125b-408d-9f91-b03a37fe8e22\")>,\n",
       " <selenium.webdriver.firefox.webelement.FirefoxWebElement (session=\"a116df79-fa1e-4d3d-ac65-07ed0980995d\", element=\"69ca469a-882b-44a7-b182-d91a496c45a0\")>,\n",
       " <selenium.webdriver.firefox.webelement.FirefoxWebElement (session=\"a116df79-fa1e-4d3d-ac65-07ed0980995d\", element=\"57a0ca8f-bae6-460c-a129-ac4096f5a092\")>,\n",
       " <selenium.webdriver.firefox.webelement.FirefoxWebElement (session=\"a116df79-fa1e-4d3d-ac65-07ed0980995d\", element=\"44df9616-dde8-48f0-a8bf-a0e5abb2b306\")>,\n",
       " <selenium.webdriver.firefox.webelement.FirefoxWebElement (session=\"a116df79-fa1e-4d3d-ac65-07ed0980995d\", element=\"884ef587-c2b1-4668-9051-297433527e9e\")>,\n",
       " <selenium.webdriver.firefox.webelement.FirefoxWebElement (session=\"a116df79-fa1e-4d3d-ac65-07ed0980995d\", element=\"013dc2c4-04d8-44a6-a051-e3dc92883fdd\")>,\n",
       " <selenium.webdriver.firefox.webelement.FirefoxWebElement (session=\"a116df79-fa1e-4d3d-ac65-07ed0980995d\", element=\"2d724273-09cf-4e47-b71b-1724afa82490\")>]"
      ]
     },
     "execution_count": 149,
     "metadata": {},
     "output_type": "execute_result"
    }
   ],
   "source": [
    "ppp_target_image.find_elements_by_tag_name('div')"
   ]
  },
  {
   "cell_type": "code",
   "execution_count": 157,
   "id": "beautiful-elizabeth",
   "metadata": {},
   "outputs": [],
   "source": [
    "io = target_image.find_element_by_xpath('..').find_element_by_xpath('..').find_element_by_xpath('..')"
   ]
  },
  {
   "cell_type": "code",
   "execution_count": null,
   "id": "nuclear-mexico",
   "metadata": {
    "collapsed": true
   },
   "outputs": [],
   "source": []
  },
  {
   "cell_type": "code",
   "execution_count": null,
   "id": "falling-relation",
   "metadata": {},
   "outputs": [],
   "source": []
  },
  {
   "cell_type": "code",
   "execution_count": null,
   "id": "collectible-referral",
   "metadata": {},
   "outputs": [],
   "source": []
  },
  {
   "cell_type": "code",
   "execution_count": 159,
   "id": "egyptian-saver",
   "metadata": {},
   "outputs": [],
   "source": [
    "divs = io.find_elements_by_tag_name('div')"
   ]
  },
  {
   "cell_type": "code",
   "execution_count": 162,
   "id": "tender-student",
   "metadata": {},
   "outputs": [],
   "source": [
    "def get_friend_info():\n",
    "    for div in divs:\n",
    "        try:\n",
    "            link = div.find_element_by_tag_name('a')\n",
    "            print(link.text)\n",
    "            print(link.get_attribute('href'))jjjjjjj\n",
    "        except:\n",
    "            pass"
   ]
  },
  {
   "cell_type": "code",
   "execution_count": 163,
   "id": "offensive-grave",
   "metadata": {},
   "outputs": [
    {
     "name": "stdout",
     "output_type": "stream",
     "text": [
      "\n",
      "https://www.facebook.com/simone.lopez.9484941\n",
      "Simion Lopez\n",
      "https://www.facebook.com/simone.lopez.9484941\n",
      "Simion Lopez\n",
      "https://www.facebook.com/simone.lopez.9484941\n",
      "1 общий друг\n",
      "https://www.facebook.com/simone.lopez.9484941/friends_mutual\n",
      "1 общий друг\n",
      "https://www.facebook.com/simone.lopez.9484941/friends_mutual\n",
      "1 общий друг\n",
      "https://www.facebook.com/simone.lopez.9484941/friends_mutual\n"
     ]
    }
   ],
   "source": [
    "get_friend_info()"
   ]
  },
  {
   "cell_type": "code",
   "execution_count": null,
   "id": "raising-latin",
   "metadata": {},
   "outputs": [],
   "source": []
  },
  {
   "cell_type": "code",
   "execution_count": 154,
   "id": "processed-musical",
   "metadata": {},
   "outputs": [],
   "source": [
    "all_divs = ppp_target_image.find_elements_by_tag_name('div')"
   ]
  },
  {
   "cell_type": "code",
   "execution_count": 166,
   "id": "passing-separate",
   "metadata": {},
   "outputs": [
    {
     "name": "stdout",
     "output_type": "stream",
     "text": [
      "Друзья\n"
     ]
    }
   ],
   "source": [
    "for div in all_divs:\n",
    "    action_event = div.get_attribute('aria-label')\n",
    "    if action_event is None:\n",
    "        continue\n",
    "    print(action_event)\n",
    "    div.click()\n",
    "    "
   ]
  },
  {
   "cell_type": "code",
   "execution_count": 167,
   "id": "distributed-fitness",
   "metadata": {},
   "outputs": [],
   "source": [
    "all_span = driver.find_elements_by_tag_name('span')"
   ]
  },
  {
   "cell_type": "code",
   "execution_count": 168,
   "id": "violent-locator",
   "metadata": {},
   "outputs": [
    {
     "data": {
      "text/plain": [
       "185"
      ]
     },
     "execution_count": 168,
     "metadata": {},
     "output_type": "execute_result"
    }
   ],
   "source": [
    "len(all_span)"
   ]
  },
  {
   "cell_type": "code",
   "execution_count": 170,
   "id": "employed-might",
   "metadata": {},
   "outputs": [
    {
     "name": "stdout",
     "output_type": "stream",
     "text": [
      "Удалить из друзей\n"
     ]
    }
   ],
   "source": [
    "for span in all_span:\n",
    "    if span.text == 'Удалить из друзей':\n",
    "        print(span.text)"
   ]
  },
  {
   "cell_type": "code",
   "execution_count": 171,
   "id": "typical-fairy",
   "metadata": {},
   "outputs": [
    {
     "data": {
      "text/plain": [
       "<selenium.webdriver.firefox.webelement.FirefoxWebElement (session=\"a116df79-fa1e-4d3d-ac65-07ed0980995d\", element=\"253dc647-87b5-4da2-93a4-437350af8a15\")>"
      ]
     },
     "execution_count": 171,
     "metadata": {},
     "output_type": "execute_result"
    }
   ],
   "source": [
    "span"
   ]
  },
  {
   "cell_type": "code",
   "execution_count": null,
   "id": "particular-unemployment",
   "metadata": {},
   "outputs": [],
   "source": [
    "all_span_divs = driver.find_elements_by_jj"
   ]
  },
  {
   "cell_type": "code",
   "execution_count": null,
   "id": "exempt-amendment",
   "metadata": {},
   "outputs": [],
   "source": []
  },
  {
   "cell_type": "code",
   "execution_count": null,
   "id": "treated-anderson",
   "metadata": {},
   "outputs": [],
   "source": [
    "By.cssSelector(\"a[href='mysite.com']\");\n"
   ]
  },
  {
   "cell_type": "code",
   "execution_count": 182,
   "id": "found-charleston",
   "metadata": {},
   "outputs": [],
   "source": [
    "## https://stackoverflow.com/questions/26304224/find-element-by-attribute"
   ]
  },
  {
   "cell_type": "code",
   "execution_count": 179,
   "id": "endangered-register",
   "metadata": {},
   "outputs": [],
   "source": [
    "delete_container = driver.find_element_by_css_selector('div[data-pagelet=\"root\"]')"
   ]
  },
  {
   "cell_type": "code",
   "execution_count": 180,
   "id": "therapeutic-receptor",
   "metadata": {},
   "outputs": [
    {
     "data": {
      "text/plain": [
       "[<selenium.webdriver.firefox.webelement.FirefoxWebElement (session=\"a116df79-fa1e-4d3d-ac65-07ed0980995d\", element=\"36407333-1d7e-4a1c-8807-8499c35fa980\")>,\n",
       " <selenium.webdriver.firefox.webelement.FirefoxWebElement (session=\"a116df79-fa1e-4d3d-ac65-07ed0980995d\", element=\"cee88a82-37bf-4787-a580-e569540d9ff5\")>,\n",
       " <selenium.webdriver.firefox.webelement.FirefoxWebElement (session=\"a116df79-fa1e-4d3d-ac65-07ed0980995d\", element=\"23cec10e-8216-4dce-8244-c7e21000025e\")>,\n",
       " <selenium.webdriver.firefox.webelement.FirefoxWebElement (session=\"a116df79-fa1e-4d3d-ac65-07ed0980995d\", element=\"d7620ed2-68de-415b-9b62-b20a93faaca2\")>]"
      ]
     },
     "execution_count": 180,
     "metadata": {},
     "output_type": "execute_result"
    }
   ],
   "source": [
    "delete_container.find_elements_by_css_selector('div[role=\"menuitem\"]')"
   ]
  },
  {
   "cell_type": "code",
   "execution_count": 181,
   "id": "referenced-physics",
   "metadata": {},
   "outputs": [
    {
     "name": "stdout",
     "output_type": "stream",
     "text": [
      "Избранное\n",
      "Редактировать список друзей\n",
      "Отменить подписку\n",
      "Удалить из друзей\n"
     ]
    }
   ],
   "source": [
    "for j in _:\n",
    "    print(j.text)"
   ]
  },
  {
   "cell_type": "code",
   "execution_count": 177,
   "id": "supposed-relevance",
   "metadata": {},
   "outputs": [
    {
     "name": "stdout",
     "output_type": "stream",
     "text": [
      "find_element_by_css_selector\n",
      "find_elements_by_css_selector\n"
     ]
    }
   ],
   "source": [
    "for i in dir(driver):\n",
    "    if 'css' in i:\n",
    "        print(i)"
   ]
  },
  {
   "cell_type": "code",
   "execution_count": null,
   "id": "welcome-johnston",
   "metadata": {},
   "outputs": [],
   "source": [
    "ii = driver.find_el"
   ]
  },
  {
   "cell_type": "code",
   "execution_count": null,
   "id": "amber-dealer",
   "metadata": {},
   "outputs": [],
   "source": []
  },
  {
   "cell_type": "code",
   "execution_count": null,
   "id": "internal-malta",
   "metadata": {},
   "outputs": [],
   "source": []
  },
  {
   "cell_type": "code",
   "execution_count": 172,
   "id": "mysterious-tennessee",
   "metadata": {},
   "outputs": [],
   "source": [
    "p_span = span.find_element_by_xpath('..')"
   ]
  },
  {
   "cell_type": "code",
   "execution_count": 184,
   "id": "another-fancy",
   "metadata": {},
   "outputs": [],
   "source": [
    "# p_span.find_elements_by_tag_name('div')"
   ]
  },
  {
   "cell_type": "code",
   "execution_count": null,
   "id": "previous-davis",
   "metadata": {},
   "outputs": [],
   "source": []
  },
  {
   "cell_type": "code",
   "execution_count": null,
   "id": "forbidden-indonesia",
   "metadata": {},
   "outputs": [],
   "source": []
  },
  {
   "cell_type": "code",
   "execution_count": null,
   "id": "passive-adoption",
   "metadata": {},
   "outputs": [],
   "source": []
  },
  {
   "cell_type": "code",
   "execution_count": null,
   "id": "contained-donna",
   "metadata": {},
   "outputs": [],
   "source": []
  },
  {
   "cell_type": "code",
   "execution_count": 155,
   "id": "amended-interface",
   "metadata": {},
   "outputs": [],
   "source": [
    "last_div = all_divs[-1]"
   ]
  },
  {
   "cell_type": "code",
   "execution_count": null,
   "id": "average-oliver",
   "metadata": {},
   "outputs": [],
   "source": []
  },
  {
   "cell_type": "code",
   "execution_count": null,
   "id": "forbidden-gothic",
   "metadata": {},
   "outputs": [],
   "source": []
  },
  {
   "cell_type": "code",
   "execution_count": null,
   "id": "small-hardwood",
   "metadata": {},
   "outputs": [],
   "source": [
    "divs"
   ]
  },
  {
   "cell_type": "code",
   "execution_count": 185,
   "id": "stainless-being",
   "metadata": {},
   "outputs": [],
   "source": [
    "# last_div.find_element_by_tag_name('imgkkj')"
   ]
  },
  {
   "cell_type": "code",
   "execution_count": null,
   "id": "hourly-crawford",
   "metadata": {},
   "outputs": [],
   "source": [
    "kkk"
   ]
  },
  {
   "cell_type": "code",
   "execution_count": null,
   "id": "continental-thriller",
   "metadata": {},
   "outputs": [],
   "source": []
  },
  {
   "cell_type": "code",
   "execution_count": null,
   "id": "empirical-roots",
   "metadata": {},
   "outputs": [],
   "source": []
  },
  {
   "cell_type": "code",
   "execution_count": null,
   "id": "adolescent-texas",
   "metadata": {},
   "outputs": [],
   "source": []
  },
  {
   "cell_type": "code",
   "execution_count": null,
   "id": "above-hunter",
   "metadata": {},
   "outputs": [],
   "source": []
  },
  {
   "cell_type": "code",
   "execution_count": null,
   "id": "greater-delaware",
   "metadata": {},
   "outputs": [],
   "source": []
  },
  {
   "cell_type": "code",
   "execution_count": null,
   "id": "alive-circle",
   "metadata": {},
   "outputs": [],
   "source": []
  },
  {
   "cell_type": "code",
   "execution_count": 142,
   "id": "center-calgary",
   "metadata": {},
   "outputs": [
    {
     "ename": "TypeError",
     "evalue": "'FirefoxWebElement' object is not subscriptable",
     "output_type": "error",
     "traceback": [
      "\u001b[0;31m---------------------------------------------------------------------------\u001b[0m",
      "\u001b[0;31mTypeError\u001b[0m                                 Traceback (most recent call last)",
      "\u001b[0;32m<ipython-input-142-a0ecce7a29ad>\u001b[0m in \u001b[0;36m<module>\u001b[0;34m\u001b[0m\n\u001b[0;32m----> 1\u001b[0;31m \u001b[0mkk\u001b[0m\u001b[0;34m[\u001b[0m\u001b[0;36m0\u001b[0m\u001b[0;34m]\u001b[0m\u001b[0;34m.\u001b[0m\u001b[0mname\u001b[0m\u001b[0;34m\u001b[0m\u001b[0;34m\u001b[0m\u001b[0m\n\u001b[0m",
      "\u001b[0;31mTypeError\u001b[0m: 'FirefoxWebElement' object is not subscriptable"
     ]
    }
   ],
   "source": [
    "kk[0].name"
   ]
  },
  {
   "cell_type": "code",
   "execution_count": 131,
   "id": "moving-administration",
   "metadata": {},
   "outputs": [],
   "source": [
    "new_link = _\n"
   ]
  },
  {
   "cell_type": "code",
   "execution_count": 132,
   "id": "frequent-burner",
   "metadata": {},
   "outputs": [
    {
     "data": {
      "text/plain": [
       "'https://www.facebook.com/simone.lopez.9484941'"
      ]
     },
     "execution_count": 132,
     "metadata": {},
     "output_type": "execute_result"
    }
   ],
   "source": [
    "new_link.get_attribute('href')"
   ]
  },
  {
   "cell_type": "code",
   "execution_count": null,
   "id": "mexican-palace",
   "metadata": {},
   "outputs": [],
   "source": []
  },
  {
   "cell_type": "code",
   "execution_count": null,
   "id": "scientific-static",
   "metadata": {},
   "outputs": [],
   "source": []
  },
  {
   "cell_type": "code",
   "execution_count": 133,
   "id": "proprietary-single",
   "metadata": {},
   "outputs": [],
   "source": [
    "new_pos = target_image.find_element_by_xpath('..').find_element_by_xpath('..').find_element_by_xpath('..')"
   ]
  },
  {
   "cell_type": "code",
   "execution_count": 136,
   "id": "behavioral-recipe",
   "metadata": {},
   "outputs": [
    {
     "data": {
      "text/plain": [
       "<selenium.webdriver.firefox.webelement.FirefoxWebElement (session=\"a116df79-fa1e-4d3d-ac65-07ed0980995d\", element=\"d9404256-cc37-4d2a-b0fd-96a02a1ba9bd\")>"
      ]
     },
     "execution_count": 136,
     "metadata": {},
     "output_type": "execute_result"
    }
   ],
   "source": [
    "new_pos.find_element_by_xpath('..').find_element_by_xpath('..').find_element_by_tag_name('div')"
   ]
  },
  {
   "cell_type": "code",
   "execution_count": null,
   "id": "conceptual-archives",
   "metadata": {},
   "outputs": [],
   "source": []
  },
  {
   "cell_type": "code",
   "execution_count": null,
   "id": "gentle-desktop",
   "metadata": {},
   "outputs": [],
   "source": []
  },
  {
   "cell_type": "code",
   "execution_count": null,
   "id": "finite-seminar",
   "metadata": {},
   "outputs": [],
   "source": []
  },
  {
   "cell_type": "code",
   "execution_count": null,
   "id": "synthetic-caribbean",
   "metadata": {},
   "outputs": [],
   "source": []
  },
  {
   "cell_type": "code",
   "execution_count": null,
   "id": "signed-framework",
   "metadata": {},
   "outputs": [],
   "source": []
  },
  {
   "cell_type": "code",
   "execution_count": 118,
   "id": "cross-scheduling",
   "metadata": {},
   "outputs": [],
   "source": [
    "div = divs[0]"
   ]
  },
  {
   "cell_type": "code",
   "execution_count": null,
   "id": "fifth-sussex",
   "metadata": {},
   "outputs": [],
   "source": []
  },
  {
   "cell_type": "code",
   "execution_count": 120,
   "id": "useful-louisiana",
   "metadata": {},
   "outputs": [
    {
     "data": {
      "text/plain": [
       "<selenium.webdriver.firefox.webelement.FirefoxWebElement (session=\"a116df79-fa1e-4d3d-ac65-07ed0980995d\", element=\"0247214c-bbdf-41cd-acd3-7325a965a423\")>"
      ]
     },
     "execution_count": 120,
     "metadata": {},
     "output_type": "execute_result"
    }
   ],
   "source": [
    "div"
   ]
  },
  {
   "cell_type": "code",
   "execution_count": null,
   "id": "numerical-diana",
   "metadata": {},
   "outputs": [],
   "source": [
    "div.kkk"
   ]
  },
  {
   "cell_type": "code",
   "execution_count": 119,
   "id": "industrial-northeast",
   "metadata": {},
   "outputs": [
    {
     "ename": "AttributeError",
     "evalue": "'list' object has no attribute 'get_attribute'",
     "output_type": "error",
     "traceback": [
      "\u001b[0;31m---------------------------------------------------------------------------\u001b[0m",
      "\u001b[0;31mAttributeError\u001b[0m                            Traceback (most recent call last)",
      "\u001b[0;32m<ipython-input-119-c678f0764b6a>\u001b[0m in \u001b[0;36m<module>\u001b[0;34m\u001b[0m\n\u001b[0;32m----> 1\u001b[0;31m \u001b[0m_\u001b[0m\u001b[0;34m.\u001b[0m\u001b[0mget_attribute\u001b[0m\u001b[0;34m(\u001b[0m\u001b[0;34m'src'\u001b[0m\u001b[0;34m)\u001b[0m\u001b[0;34m\u001b[0m\u001b[0;34m\u001b[0m\u001b[0m\n\u001b[0m",
      "\u001b[0;31mAttributeError\u001b[0m: 'list' object has no attribute 'get_attribute'"
     ]
    }
   ],
   "source": [
    "_.get_attribute('src')"
   ]
  },
  {
   "cell_type": "code",
   "execution_count": 74,
   "id": "under-library",
   "metadata": {},
   "outputs": [],
   "source": [
    "pp = target_image._parent"
   ]
  },
  {
   "cell_type": "code",
   "execution_count": 186,
   "id": "disturbed-label",
   "metadata": {},
   "outputs": [],
   "source": [
    "# dir(pp)"
   ]
  },
  {
   "cell_type": "code",
   "execution_count": 69,
   "id": "charitable-appreciation",
   "metadata": {},
   "outputs": [],
   "source": [
    "parent = target_image.find_element_by_xpath"
   ]
  },
  {
   "cell_type": "code",
   "execution_count": 73,
   "id": "acquired-ethernet",
   "metadata": {},
   "outputs": [
    {
     "data": {
      "text/plain": [
       "{'x': 546.0, 'y': 1380.88330078125, 'width': 80.0, 'height': 80.0}"
      ]
     },
     "execution_count": 73,
     "metadata": {},
     "output_type": "execute_result"
    }
   ],
   "source": [
    "target_image.rect"
   ]
  },
  {
   "cell_type": "code",
   "execution_count": 57,
   "id": "intermediate-wallet",
   "metadata": {},
   "outputs": [
    {
     "data": {
      "text/plain": [
       "['CLASS_NAME',\n",
       " 'CSS_SELECTOR',\n",
       " 'ID',\n",
       " 'LINK_TEXT',\n",
       " 'NAME',\n",
       " 'PARTIAL_LINK_TEXT',\n",
       " 'TAG_NAME',\n",
       " 'XPATH',\n",
       " '__class__',\n",
       " '__delattr__',\n",
       " '__dict__',\n",
       " '__dir__',\n",
       " '__doc__',\n",
       " '__eq__',\n",
       " '__format__',\n",
       " '__ge__',\n",
       " '__getattribute__',\n",
       " '__gt__',\n",
       " '__hash__',\n",
       " '__init__',\n",
       " '__init_subclass__',\n",
       " '__le__',\n",
       " '__lt__',\n",
       " '__module__',\n",
       " '__ne__',\n",
       " '__new__',\n",
       " '__reduce__',\n",
       " '__reduce_ex__',\n",
       " '__repr__',\n",
       " '__setattr__',\n",
       " '__sizeof__',\n",
       " '__str__',\n",
       " '__subclasshook__',\n",
       " '__weakref__']"
      ]
     },
     "execution_count": 57,
     "metadata": {},
     "output_type": "execute_result"
    }
   ],
   "source": [
    "dir(By)"
   ]
  },
  {
   "cell_type": "code",
   "execution_count": null,
   "id": "necessary-morris",
   "metadata": {},
   "outputs": [],
   "source": []
  },
  {
   "cell_type": "code",
   "execution_count": null,
   "id": "technological-enhancement",
   "metadata": {},
   "outputs": [],
   "source": []
  },
  {
   "cell_type": "code",
   "execution_count": null,
   "id": "great-intelligence",
   "metadata": {},
   "outputs": [],
   "source": []
  },
  {
   "cell_type": "code",
   "execution_count": null,
   "id": "selected-annual",
   "metadata": {},
   "outputs": [],
   "source": []
  },
  {
   "cell_type": "code",
   "execution_count": 51,
   "id": "nervous-viking",
   "metadata": {},
   "outputs": [],
   "source": [
    "css_prop = target_image.value_of_css_property"
   ]
  },
  {
   "cell_type": "code",
   "execution_count": 29,
   "id": "fitting-animal",
   "metadata": {},
   "outputs": [],
   "source": [
    "parent = target_image.parent"
   ]
  },
  {
   "cell_type": "code",
   "execution_count": 35,
   "id": "essential-consideration",
   "metadata": {},
   "outputs": [
    {
     "data": {
      "text/plain": [
       "[]"
      ]
     },
     "execution_count": 35,
     "metadata": {},
     "output_type": "execute_result"
    }
   ],
   "source": [
    "target_image.find_elements_by_tag_name('a')"
   ]
  },
  {
   "cell_type": "code",
   "execution_count": 187,
   "id": "respected-worry",
   "metadata": {},
   "outputs": [],
   "source": [
    "# dir(parent)"
   ]
  },
  {
   "cell_type": "code",
   "execution_count": 188,
   "id": "actual-insertion",
   "metadata": {},
   "outputs": [],
   "source": [
    "# parent.find_elements_by_tag_name('a')"
   ]
  },
  {
   "cell_type": "code",
   "execution_count": 39,
   "id": "minute-logistics",
   "metadata": {},
   "outputs": [],
   "source": [
    "tt = _[10]"
   ]
  },
  {
   "cell_type": "code",
   "execution_count": 40,
   "id": "involved-arthritis",
   "metadata": {},
   "outputs": [
    {
     "data": {
      "text/plain": [
       "<selenium.webdriver.firefox.webelement.FirefoxWebElement (session=\"a116df79-fa1e-4d3d-ac65-07ed0980995d\", element=\"ef788658-c3c0-4f4f-b291-e7cebf732db4\")>"
      ]
     },
     "execution_count": 40,
     "metadata": {},
     "output_type": "execute_result"
    }
   ],
   "source": [
    "tt"
   ]
  },
  {
   "cell_type": "code",
   "execution_count": 42,
   "id": "verbal-lightweight",
   "metadata": {},
   "outputs": [
    {
     "data": {
      "text/plain": [
       "'https://www.facebook.com/ames0k0/about'"
      ]
     },
     "execution_count": 42,
     "metadata": {},
     "output_type": "execute_result"
    }
   ],
   "source": [
    "tt.get_attribute('href')"
   ]
  },
  {
   "cell_type": "code",
   "execution_count": null,
   "id": "instant-apparatus",
   "metadata": {},
   "outputs": [],
   "source": []
  },
  {
   "cell_type": "code",
   "execution_count": null,
   "id": "quick-dakota",
   "metadata": {},
   "outputs": [],
   "source": []
  },
  {
   "cell_type": "code",
   "execution_count": 25,
   "id": "mineral-depth",
   "metadata": {},
   "outputs": [
    {
     "data": {
      "text/plain": [
       "'https://scontent-arn2-1.xx.fbcdn.net/v/t1.0-1/cp0/p80x80/131899151_733252780629656_5216548796421304967_n.jpg?_nc_cat=106&ccb=2&_nc_sid=2fc63d&_nc_ohc=cJ-n2D6GHDoAX-HabvL&_nc_ht=scontent-arn2-1.xx&tp=27&oh=affcb4f78ca401f52deaaf3c34981dca&oe=602F0B52'"
      ]
     },
     "execution_count": 25,
     "metadata": {},
     "output_type": "execute_result"
    }
   ],
   "source": [
    "_.get_attribute('src')"
   ]
  },
  {
   "cell_type": "code",
   "execution_count": 51,
   "id": "gross-turning",
   "metadata": {},
   "outputs": [],
   "source": [
    "driver.execute_script(\"window.scrollTo(0, 900)\")"
   ]
  }
 ],
 "metadata": {
  "kernelspec": {
   "display_name": "Python 3",
   "language": "python",
   "name": "python3"
  },
  "language_info": {
   "codemirror_mode": {
    "name": "ipython",
    "version": 3
   },
   "file_extension": ".py",
   "mimetype": "text/x-python",
   "name": "python",
   "nbconvert_exporter": "python",
   "pygments_lexer": "ipython3",
   "version": "3.9.1+"
  }
 },
 "nbformat": 4,
 "nbformat_minor": 5
}
